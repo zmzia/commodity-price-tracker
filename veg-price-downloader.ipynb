{
 "cells": [
  {
   "cell_type": "code",
   "execution_count": 11,
   "metadata": {},
   "outputs": [],
   "source": [
    "import requests\n",
    "from bs4 import BeautifulSoup\n",
    "import pandas as pd\n",
    "from datetime import date"
   ]
  },
  {
   "cell_type": "code",
   "execution_count": 12,
   "metadata": {},
   "outputs": [],
   "source": [
    "# target URL to scrap\n",
    "url = \"https://www.livechennai.com/Vegetable_price_chennai.asp\""
   ]
  },
  {
   "cell_type": "code",
   "execution_count": 13,
   "metadata": {},
   "outputs": [],
   "source": [
    "# headers\n",
    "headers = {\n",
    "    'User-Agent': \"Mozilla/5.0 (X11; Linux x86_64) AppleWebKit/537.36 (KHTML, like Gecko) Chrome/77.0.3865.90 Safari/537.36\"\n",
    "    }"
   ]
  },
  {
   "cell_type": "code",
   "execution_count": 14,
   "metadata": {},
   "outputs": [],
   "source": [
    "# send request to download data\n",
    "response = requests.request(\"GET\",url,headers=headers)"
   ]
  },
  {
   "cell_type": "code",
   "execution_count": 15,
   "metadata": {},
   "outputs": [],
   "source": [
    "# parse the recieved data\n",
    "data = BeautifulSoup(response.text,'html.parser')"
   ]
  },
  {
   "cell_type": "code",
   "execution_count": 16,
   "metadata": {},
   "outputs": [
    {
     "name": "stdout",
     "output_type": "stream",
     "text": [
      "Todays vegetable price download completed\n"
     ]
    }
   ],
   "source": [
    "# find vegetable data\n",
    "output=[]\n",
    "dt = date.today()\n",
    "\n",
    "table = data.find('table', attrs={'class','table-price1'})\n",
    "rows = table.find_all('tr')\n",
    "for row in rows:\n",
    "    cols = row.find_all('td')\n",
    "    cols = [item.text.strip()for item in cols]\n",
    "    output.append([item for item in cols if item])\n",
    "##    print(cols)\n",
    "##output.append(['xx','99'])\n",
    "df = pd.DataFrame(output,columns=['Name','Price'])\n",
    "df.iloc[0] = [\"Date\",dt]\n",
    "df = df.T\n",
    "df = df.rename(columns=df.iloc[0]).drop(df.index[0])\n",
    "df.to_csv('today-veg-price.csv', mode='a', index=False, header=False)\n",
    "print('Todays vegetable price download completed')"
   ]
  },
  {
   "cell_type": "code",
   "execution_count": null,
   "metadata": {},
   "outputs": [],
   "source": []
  }
 ],
 "metadata": {
  "kernelspec": {
   "display_name": "Python 3",
   "language": "python",
   "name": "python3"
  },
  "language_info": {
   "codemirror_mode": {
    "name": "ipython",
    "version": 3
   },
   "file_extension": ".py",
   "mimetype": "text/x-python",
   "name": "python",
   "nbconvert_exporter": "python",
   "pygments_lexer": "ipython3",
   "version": "3.8.5"
  }
 },
 "nbformat": 4,
 "nbformat_minor": 4
}
